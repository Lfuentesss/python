{
  "nbformat": 4,
  "nbformat_minor": 0,
  "metadata": {
    "colab": {
      "provenance": []
    },
    "kernelspec": {
      "name": "python3",
      "display_name": "Python 3"
    },
    "language_info": {
      "name": "python"
    }
  },
  "cells": [
    {
      "cell_type": "code",
      "execution_count": 7,
      "metadata": {
        "id": "KfEcKQih5G06"
      },
      "outputs": [],
      "source": [
        "def cifrar(codificar, palabra_codificadora1='CENIT', palabra_codificadora2='POLAR'):\n",
        "  #VERIFICAR QUE EL LARGO SEA IGUAL\n",
        "  if  not len(palabra_codificadora1)==len(palabra_codificadora2):\n",
        "      print(\"las palabras no tienen la misma cantidad de letras\")\n",
        "      return\n",
        "  #ocupamos la funcion isalpha para verificar que no hay caracteres especiales\n",
        "  if not palabra_codificadora1.isalpha() or not palabra_codificadora2.isalpha():\n",
        "      print(\"revisa tu palabra, debe contener solo letras\")\n",
        "#verificamos que no contiene letras repetidas  ocupando set y intersection\n",
        "#la funcion set automaticamente elimina las letras repetidas del conjunto\n",
        "#entonces de condicion, hacemos una interseccion entre ambos conjuntos con la funcion\n",
        "#intersection, entonces esta funcion detectara si hay letras repetidas en ambos conjuntos.\n",
        "  if not set(palabra_codificadora1).intersection(set(palabra_codificadora2)):\n",
        "    print(\"no contiene letras repetidas\")\n",
        "  else:\n",
        "    return print(\"sus palabras codificadoras contienen letras repetidas, ingrese nuevas palabras y verifique que no se repitan letras\")\n",
        "  codificar = ''.join(c.upper() for c in codificar if c.isalpha())\n",
        "# Generar el diccionario de reemplazo\n",
        "  reemplazo = {}\n",
        "  for i in range(len(palabra_codificadora1)):\n",
        "      reemplazo[palabra_codificadora1[i]] = palabra_codificadora2[i]\n",
        "      reemplazo[palabra_codificadora2[i]] = palabra_codificadora1[i]\n",
        "\n",
        "    # Realizar el cifrado de la frase\n",
        "  frase_codificada = ''.join(reemplazo.get(c, c) for c in codificar)\n",
        "\n",
        "  return frase_codificada"
      ]
    },
    {
      "cell_type": "code",
      "source": [
        "palabra=cifrar(input('palabra a codificar:'))\n",
        "print('su palabra codificada es:',palabra)"
      ],
      "metadata": {
        "colab": {
          "base_uri": "https://localhost:8080/"
        },
        "id": "YzOoCRKfffKC",
        "outputId": "251dae72-b689-4387-b95b-440f0845aaee"
      },
      "execution_count": 8,
      "outputs": [
        {
          "output_type": "stream",
          "name": "stdout",
          "text": [
            "palabra a codificar:holas\n",
            "no contiene letras repetidas\n",
            "su palabra codificada es: HENIS\n"
          ]
        }
      ]
    }
  ]
}